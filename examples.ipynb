{
 "cells": [
  {
   "cell_type": "code",
   "execution_count": 5,
   "metadata": {},
   "outputs": [
    {
     "ename": "ModuleNotFoundError",
     "evalue": "No module named 'scipy'",
     "output_type": "error",
     "traceback": [
      "\u001b[0;31m---------------------------------------------------------------------------\u001b[0m",
      "\u001b[0;31mModuleNotFoundError\u001b[0m                       Traceback (most recent call last)",
      "\u001b[1;32m/workspaces/Projection-pursuit-Driscoll/examples.ipynb Cell 1\u001b[0m line \u001b[0;36m2\n\u001b[1;32m      <a href='vscode-notebook-cell://codespaces%2Bubiquitous-spoon-wr5r955q93g4vp/workspaces/Projection-pursuit-Driscoll/examples.ipynb#W0sdnNjb2RlLXJlbW90ZQ%3D%3D?line=0'>1</a>\u001b[0m \u001b[39mimport\u001b[39;00m \u001b[39mnumpy\u001b[39;00m \u001b[39mas\u001b[39;00m \u001b[39mnp\u001b[39;00m\u001b[39m,\u001b[39m \u001b[39mos\u001b[39;00m\n\u001b[0;32m----> <a href='vscode-notebook-cell://codespaces%2Bubiquitous-spoon-wr5r955q93g4vp/workspaces/Projection-pursuit-Driscoll/examples.ipynb#W0sdnNjb2RlLXJlbW90ZQ%3D%3D?line=1'>2</a>\u001b[0m \u001b[39mfrom\u001b[39;00m \u001b[39msklearn\u001b[39;00m\u001b[39m.\u001b[39;00m\u001b[39mutils\u001b[39;00m \u001b[39mimport\u001b[39;00m shuffle\n\u001b[1;32m      <a href='vscode-notebook-cell://codespaces%2Bubiquitous-spoon-wr5r955q93g4vp/workspaces/Projection-pursuit-Driscoll/examples.ipynb#W0sdnNjb2RlLXJlbW90ZQ%3D%3D?line=2'>3</a>\u001b[0m \u001b[39mfrom\u001b[39;00m \u001b[39mPIL\u001b[39;00m \u001b[39mimport\u001b[39;00m Image, ImageDraw, ImageFont\n",
      "File \u001b[0;32m~/.local/lib/python3.10/site-packages/sklearn/__init__.py:83\u001b[0m\n\u001b[1;32m     69\u001b[0m     \u001b[39m# We are not importing the rest of scikit-learn during the build\u001b[39;00m\n\u001b[1;32m     70\u001b[0m     \u001b[39m# process, as it may not be compiled yet\u001b[39;00m\n\u001b[1;32m     71\u001b[0m \u001b[39melse\u001b[39;00m:\n\u001b[0;32m   (...)\u001b[0m\n\u001b[1;32m     77\u001b[0m     \u001b[39m# later is linked to the OpenMP runtime to make it possible to introspect\u001b[39;00m\n\u001b[1;32m     78\u001b[0m     \u001b[39m# it and importing it first would fail if the OpenMP dll cannot be found.\u001b[39;00m\n\u001b[1;32m     79\u001b[0m     \u001b[39mfrom\u001b[39;00m \u001b[39m.\u001b[39;00m \u001b[39mimport\u001b[39;00m (\n\u001b[1;32m     80\u001b[0m         __check_build,  \u001b[39m# noqa: F401\u001b[39;00m\n\u001b[1;32m     81\u001b[0m         _distributor_init,  \u001b[39m# noqa: F401\u001b[39;00m\n\u001b[1;32m     82\u001b[0m     )\n\u001b[0;32m---> 83\u001b[0m     \u001b[39mfrom\u001b[39;00m \u001b[39m.\u001b[39;00m\u001b[39mbase\u001b[39;00m \u001b[39mimport\u001b[39;00m clone\n\u001b[1;32m     84\u001b[0m     \u001b[39mfrom\u001b[39;00m \u001b[39m.\u001b[39;00m\u001b[39mutils\u001b[39;00m\u001b[39m.\u001b[39;00m\u001b[39m_show_versions\u001b[39;00m \u001b[39mimport\u001b[39;00m show_versions\n\u001b[1;32m     86\u001b[0m     __all__ \u001b[39m=\u001b[39m [\n\u001b[1;32m     87\u001b[0m         \u001b[39m\"\u001b[39m\u001b[39mcalibration\u001b[39m\u001b[39m\"\u001b[39m,\n\u001b[1;32m     88\u001b[0m         \u001b[39m\"\u001b[39m\u001b[39mcluster\u001b[39m\u001b[39m\"\u001b[39m,\n\u001b[0;32m   (...)\u001b[0m\n\u001b[1;32m    129\u001b[0m         \u001b[39m\"\u001b[39m\u001b[39mshow_versions\u001b[39m\u001b[39m\"\u001b[39m,\n\u001b[1;32m    130\u001b[0m     ]\n",
      "File \u001b[0;32m~/.local/lib/python3.10/site-packages/sklearn/base.py:19\u001b[0m\n\u001b[1;32m     17\u001b[0m \u001b[39mfrom\u001b[39;00m \u001b[39m.\u001b[39;00m\u001b[39m_config\u001b[39;00m \u001b[39mimport\u001b[39;00m config_context, get_config\n\u001b[1;32m     18\u001b[0m \u001b[39mfrom\u001b[39;00m \u001b[39m.\u001b[39;00m\u001b[39mexceptions\u001b[39;00m \u001b[39mimport\u001b[39;00m InconsistentVersionWarning\n\u001b[0;32m---> 19\u001b[0m \u001b[39mfrom\u001b[39;00m \u001b[39m.\u001b[39;00m\u001b[39mutils\u001b[39;00m \u001b[39mimport\u001b[39;00m _IS_32BIT\n\u001b[1;32m     20\u001b[0m \u001b[39mfrom\u001b[39;00m \u001b[39m.\u001b[39;00m\u001b[39mutils\u001b[39;00m\u001b[39m.\u001b[39;00m\u001b[39m_estimator_html_repr\u001b[39;00m \u001b[39mimport\u001b[39;00m estimator_html_repr\n\u001b[1;32m     21\u001b[0m \u001b[39mfrom\u001b[39;00m \u001b[39m.\u001b[39;00m\u001b[39mutils\u001b[39;00m\u001b[39m.\u001b[39;00m\u001b[39m_metadata_requests\u001b[39;00m \u001b[39mimport\u001b[39;00m _MetadataRequester\n",
      "File \u001b[0;32m~/.local/lib/python3.10/site-packages/sklearn/utils/__init__.py:15\u001b[0m\n\u001b[1;32m     12\u001b[0m \u001b[39mfrom\u001b[39;00m \u001b[39mitertools\u001b[39;00m \u001b[39mimport\u001b[39;00m compress, islice\n\u001b[1;32m     14\u001b[0m \u001b[39mimport\u001b[39;00m \u001b[39mnumpy\u001b[39;00m \u001b[39mas\u001b[39;00m \u001b[39mnp\u001b[39;00m\n\u001b[0;32m---> 15\u001b[0m \u001b[39mfrom\u001b[39;00m \u001b[39mscipy\u001b[39;00m\u001b[39m.\u001b[39;00m\u001b[39msparse\u001b[39;00m \u001b[39mimport\u001b[39;00m issparse\n\u001b[1;32m     17\u001b[0m \u001b[39mfrom\u001b[39;00m \u001b[39m.\u001b[39;00m\u001b[39m.\u001b[39;00m \u001b[39mimport\u001b[39;00m get_config\n\u001b[1;32m     18\u001b[0m \u001b[39mfrom\u001b[39;00m \u001b[39m.\u001b[39;00m\u001b[39m.\u001b[39;00m\u001b[39mexceptions\u001b[39;00m \u001b[39mimport\u001b[39;00m DataConversionWarning\n",
      "\u001b[0;31mModuleNotFoundError\u001b[0m: No module named 'scipy'"
     ]
    }
   ],
   "source": [
    "import numpy as np, os\n",
    "from sklearn.utils import shuffle\n",
    "import scipy\n",
    "from PIL import Image, ImageDraw, ImageFont\n"
   ]
  },
  {
   "cell_type": "code",
   "execution_count": null,
   "metadata": {},
   "outputs": [],
   "source": []
  },
  {
   "cell_type": "code",
   "execution_count": 4,
   "metadata": {},
   "outputs": [],
   "source": [
    "import matplotlib.pyplot as plt"
   ]
  },
  {
   "cell_type": "code",
   "execution_count": null,
   "metadata": {},
   "outputs": [],
   "source": [
    "training_dir = 'Face-Recognition/Datasets/att_faces/Training'\n",
    "testing_dir = 'Face-Recognition/Datasets/att_faces/Testing'"
   ]
  },
  {
   "cell_type": "code",
   "execution_count": null,
   "metadata": {},
   "outputs": [],
   "source": [
    "DATASET = 'ATT' "
   ]
  },
  {
   "cell_type": "code",
   "execution_count": null,
   "metadata": {},
   "outputs": [],
   "source": [
    "imageSize = 92*112\n",
    "imageWidth = 92\n",
    "imageHeight = 112"
   ]
  },
  {
   "cell_type": "code",
   "execution_count": null,
   "metadata": {},
   "outputs": [],
   "source": [
    "(TrainingData, TrainingLables, start) = ([], [], 0)\n",
    "(TestingData, TestingLables, startT) = ([], [], 0)"
   ]
  },
  {
   "cell_type": "code",
   "execution_count": null,
   "metadata": {},
   "outputs": [],
   "source": [
    "def LoadTrainingData(Dir, Img_Shape):\n",
    "    (Images, Lbls, Labels, ID, NClasses) = ([], [], [], 0, 0)\n",
    "\n",
    "    for(_, Dirs, _) in os.walk(Dir):\n",
    "        Dirs = sorted(Dirs)\n",
    "        for SubDir in Dirs:\n",
    "            SubjectPath = os.path.join(Dir, SubDir)\n",
    "            for FileName in os.listdir(SubjectPath):\n",
    "                path = SubjectPath + \"/\" + FileName\n",
    "                Img = plt.imread(path, mode='L')\n",
    "\n",
    "                #print Img.shape\n",
    "                (height, width) = Img.shape\n",
    "\n",
    "                if(width != Img_Shape[0] or height != Img_Shape[1]):\n",
    "                    Img = Img.resize((Img_Shape[0], Img_Shape[1]))\n",
    "\n",
    "                Images.append(Img)\n",
    "\n",
    "                Lbls.append(int(ID))\n",
    "\n",
    "            NClasses += 1\n",
    "\n",
    "            ID += 1\n",
    "\n",
    "    Images, Lbls = shuffle(Images, Lbls)\n",
    "\n",
    "    Images = np.asarray(Images, dtype='float32').reshape([-1, Img_Shape[0], Img_Shape[1], 1]) /255\n",
    "\n",
    "    #print \"Classes: \" + str(NClasses)\n",
    "\n",
    "    for label in Lbls:\n",
    "        Labels.append(Categorical([label], NClasses)[0])\n",
    "\n",
    "    return (Images, np.asarray(Labels))\n"
   ]
  },
  {
   "cell_type": "code",
   "execution_count": null,
   "metadata": {},
   "outputs": [],
   "source": [
    "def LoadTestingData(Dir, Img_Shape):\n",
    "    (Images, Labels, Names, Classes, Paths, ID, NClasses) = ([], [], [], [], [], 0, 0)\n",
    "\n",
    "    for(_, Dirs, _) in os.walk(Dir):\n",
    "        Dirs = sorted(Dirs)\n",
    "        for SubDir in Dirs:\n",
    "            SubjectPath = os.path.join(Dir, SubDir)\n",
    "            for FileName in os.listdir(SubjectPath):\n",
    "                path = SubjectPath + \"/\" + FileName\n",
    "                Img = misc.imread(path, mode='L')\n",
    "                Paths.append(path)\n",
    "\n",
    "                #print Img.shape\n",
    "                (height, width) = Img.shape\n",
    "\n",
    "                if(width != Img_Shape[0] or height != Img_Shape[1]):\n",
    "                    Img = Img.resize((Img_Shape[0], Img_Shape[1]))\n",
    "\n",
    "                Images.append(Img)\n",
    "\n",
    "                Labels.append(int(ID))\n",
    "                Names.append(SubDir)\n",
    "            Classes.append(SubDir)\n",
    "\n",
    "            NClasses += 1\n",
    "\n",
    "            ID += 1\n",
    "\n",
    "\n",
    "    Images = np.asarray(Images, dtype='float32').reshape([-1, Img_Shape[0], Img_Shape[1], 1]) /255\n",
    "\n",
    "    lbls = []\n",
    "    for label in Labels:\n",
    "        lbls.append(Categorical([label], NClasses)[0])\n",
    "\n",
    "    return (Images, lbls, np.asarray(Names), np.asarray(Classes), np.asarray(Paths))\n",
    "\n"
   ]
  },
  {
   "cell_type": "code",
   "execution_count": null,
   "metadata": {},
   "outputs": [],
   "source": [
    "def Categorical(y, NClasses):\n",
    "    y = np.asarray(y, dtype='int32')\n",
    "    if not NClasses:\n",
    "        NClasses = np.max(y)+1\n",
    "    Y = np.zeros((len(y), NClasses))\n",
    "    for i in range(len(y)):\n",
    "        Y[i, y[i]] = 1.\n",
    "    return Y\n"
   ]
  },
  {
   "cell_type": "code",
   "execution_count": null,
   "metadata": {},
   "outputs": [],
   "source": [
    "def nextBatch(batchSize):\n",
    "    global start\n",
    "    end = start + batchSize\n",
    "\n",
    "    #print \"Start: \" + str(start)\n",
    "    #print \"End: \" + str(end)\n",
    "    if(end > len(TrainingData)):\n",
    "        X,Y = TrainingData[start:], TrainingLables[start:]\n",
    "        start = 0\n",
    "        return X, Y\n",
    "\n",
    "    (X, Y) = (TrainingData[start: end], TrainingLables[start: end])\n",
    "    start = end\n",
    "    #X = X.reshape(len(X), X[0].size)\n",
    "    if (end == len(TrainingData)):\n",
    "        start = 0\n",
    "\n",
    "    return X, Y\n",
    "\n",
    "def nextTestBatch(batchSize):\n",
    "    global startT\n",
    "    end = startT + batchSize\n",
    "\n",
    "    #print \"Start: \" + str(start)\n",
    "    #print \"End: \" + str(end)\n",
    "    if(end > len(TestingData)):\n",
    "        X,Y = TestingData[startT:], TestingLables[startT:]\n",
    "        startT = 0\n",
    "        return X, Y\n",
    "\n",
    "    (X, Y) = (TestingData[startT: end], TestingLables[startT: end])\n",
    "    startT = end\n",
    "    if(end == len(TestingData)):\n",
    "        startT = 0\n",
    "    #X = X.reshape(len(X), X[0].size)\n",
    "\n",
    "\n",
    "    return X, Y\n"
   ]
  },
  {
   "cell_type": "code",
   "execution_count": null,
   "metadata": {},
   "outputs": [],
   "source": [
    "X, Y= LoadTrainingData(training_dir, (imageWidth, imageHeight))"
   ]
  }
 ],
 "metadata": {
  "kernelspec": {
   "display_name": "Python 3",
   "language": "python",
   "name": "python3"
  },
  "language_info": {
   "codemirror_mode": {
    "name": "ipython",
    "version": 3
   },
   "file_extension": ".py",
   "mimetype": "text/x-python",
   "name": "python",
   "nbconvert_exporter": "python",
   "pygments_lexer": "ipython3",
   "version": "3.10.13"
  }
 },
 "nbformat": 4,
 "nbformat_minor": 2
}
